{
 "cells": [
  {
   "cell_type": "code",
   "execution_count": 1,
   "metadata": {
    "ExecuteTime": {
     "end_time": "2019-12-22T15:28:30.065559Z",
     "start_time": "2019-12-22T15:28:28.724354Z"
    }
   },
   "outputs": [
    {
     "name": "stderr",
     "output_type": "stream",
     "text": [
      "Using TensorFlow backend.\n"
     ]
    }
   ],
   "source": [
    "import pandas as pd\n",
    "import numpy as np\n",
    "import json\n",
    "from pandas.io.json import json_normalize\n",
    "import re, csv\n",
    "from nltk.corpus import stopwords\n",
    "import nltk\n",
    "import string\n",
    "from nltk import word_tokenize\n",
    "from gensim.models import KeyedVectors   \n",
    "from sklearn.preprocessing import LabelEncoder\n",
    "from nltk import RegexpTokenizer\n",
    "from nltk.stem import WordNetLemmatizer \n",
    "from sklearn.feature_extraction.text import TfidfVectorizer\n",
    "from nltk.tokenize import TweetTokenizer\n",
    "\n",
    "\n",
    "import keras\n",
    "from keras.models import Model\n",
    "from keras.layers import Input, Dense\n",
    "from keras.layers import ReLU, Softmax\n",
    "from keras.callbacks import CSVLogger\n",
    "\n",
    "import keras\n",
    "from keras.models import Sequential, load_model\n",
    "from keras.layers import Dense, LSTM, Dropout\n",
    "from keras.layers import Embedding\n",
    "from keras.layers import Bidirectional\n",
    "# from keras.preprocessing import sequence\n",
    "from keras.preprocessing.sequence import pad_sequences\n",
    "from keras.preprocessing.text import Tokenizer\n",
    "from keras.preprocessing.text import tokenizer_from_json\n",
    "from keras.utils import to_categorical\n",
    "from keras.initializers import Constant"
   ]
  },
  {
   "cell_type": "code",
   "execution_count": 2,
   "metadata": {
    "ExecuteTime": {
     "end_time": "2019-12-22T15:28:36.132372Z",
     "start_time": "2019-12-22T15:28:30.066813Z"
    }
   },
   "outputs": [],
   "source": [
    "## load a pickle file\n",
    "train_df = pd.read_pickle(\"train_cleaned.pkl\")\n",
    "test_df = pd.read_pickle(\"test_df.pkl\")"
   ]
  },
  {
   "cell_type": "code",
   "execution_count": 3,
   "metadata": {
    "ExecuteTime": {
     "end_time": "2019-12-22T15:28:36.152000Z",
     "start_time": "2019-12-22T15:28:36.133492Z"
    }
   },
   "outputs": [
    {
     "data": {
      "text/html": [
       "<div>\n",
       "<style scoped>\n",
       "    .dataframe tbody tr th:only-of-type {\n",
       "        vertical-align: middle;\n",
       "    }\n",
       "\n",
       "    .dataframe tbody tr th {\n",
       "        vertical-align: top;\n",
       "    }\n",
       "\n",
       "    .dataframe thead th {\n",
       "        text-align: right;\n",
       "    }\n",
       "</style>\n",
       "<table border=\"1\" class=\"dataframe\">\n",
       "  <thead>\n",
       "    <tr style=\"text-align: right;\">\n",
       "      <th></th>\n",
       "      <th>tweet_id</th>\n",
       "      <th>text</th>\n",
       "      <th>hashtags</th>\n",
       "      <th>emotion</th>\n",
       "      <th>identification</th>\n",
       "      <th>stop_words</th>\n",
       "      <th>sentimentText</th>\n",
       "      <th>stemming</th>\n",
       "      <th>lemmazation</th>\n",
       "      <th>text_tokenized</th>\n",
       "      <th>cleaned</th>\n",
       "    </tr>\n",
       "  </thead>\n",
       "  <tbody>\n",
       "    <tr>\n",
       "      <th>0</th>\n",
       "      <td>0x376b20</td>\n",
       "      <td>People who post \"add me on #Snapchat\" must be ...</td>\n",
       "      <td>[Snapchat]</td>\n",
       "      <td>anticipation</td>\n",
       "      <td>train</td>\n",
       "      <td>People post \"add #Snapchat\" must dehydrated. C...</td>\n",
       "      <td>People post \"add #Snapchat\" must dehydrated. C...</td>\n",
       "      <td>peopl post \"add #snapchat\" must dehydrated. cu...</td>\n",
       "      <td>peopl post \"add #snapchat\" must dehydrated. cu...</td>\n",
       "      <td>[peopl, post, add, snapchat, must, dehydrated,...</td>\n",
       "      <td>peopl post add snapchat must dehydrated cuz ma...</td>\n",
       "    </tr>\n",
       "    <tr>\n",
       "      <th>1</th>\n",
       "      <td>0x2d5350</td>\n",
       "      <td>@brianklaas As we see, Trump is dangerous to #...</td>\n",
       "      <td>[freepress, TrumpLegacy, CNN]</td>\n",
       "      <td>sadness</td>\n",
       "      <td>train</td>\n",
       "      <td>@brianklaas As see, Trump dangerous #freepress...</td>\n",
       "      <td>@brianklaas As see, Trump dangerous #freepress...</td>\n",
       "      <td>@brianklaa As see, trump danger #freepress aro...</td>\n",
       "      <td>@brianklaa As see, trump danger #freepress aro...</td>\n",
       "      <td>[brianklaa, As, see, trump, danger, freepress,...</td>\n",
       "      <td>brianklaa As see trump danger freepress around...</td>\n",
       "    </tr>\n",
       "    <tr>\n",
       "      <th>3</th>\n",
       "      <td>0x1cd5b0</td>\n",
       "      <td>Now ISSA is stalking Tasha 😂😂😂 &lt;LH&gt;</td>\n",
       "      <td>[]</td>\n",
       "      <td>fear</td>\n",
       "      <td>train</td>\n",
       "      <td>Now ISSA stalking Tasha 😂😂😂 &lt;LH&gt;</td>\n",
       "      <td>Now ISSA stalking Tasha 😂😂😂 &lt;LH&gt;</td>\n",
       "      <td>now issa stalk tasha 😂😂😂 &lt;lh&gt;</td>\n",
       "      <td>now issa stalk tasha 😂😂😂 &lt;lh&gt;</td>\n",
       "      <td>[now, issa, stalk, tasha, 😂😂😂, lh]</td>\n",
       "      <td>now issa stalk tasha 😂😂😂 lh</td>\n",
       "    </tr>\n",
       "    <tr>\n",
       "      <th>5</th>\n",
       "      <td>0x1d755c</td>\n",
       "      <td>@RISKshow @TheKevinAllison Thx for the BEST TI...</td>\n",
       "      <td>[authentic, LaughOutLoud]</td>\n",
       "      <td>joy</td>\n",
       "      <td>train</td>\n",
       "      <td>@RISKshow @TheKevinAllison Thx BEST TIME tonig...</td>\n",
       "      <td>@RISKshow @TheKevinAllison Thank You BEST TIME...</td>\n",
       "      <td>@riskshow @thekevinallison thank you best time...</td>\n",
       "      <td>@riskshow @thekevinallison thank you best time...</td>\n",
       "      <td>[riskshow, thekevinallison, thank, you, best, ...</td>\n",
       "      <td>riskshow thekevinallison thank you best time t...</td>\n",
       "    </tr>\n",
       "    <tr>\n",
       "      <th>6</th>\n",
       "      <td>0x2c91a8</td>\n",
       "      <td>Still waiting on those supplies Liscus. &lt;LH&gt;</td>\n",
       "      <td>[]</td>\n",
       "      <td>anticipation</td>\n",
       "      <td>train</td>\n",
       "      <td>Still waiting supplies Liscus. &lt;LH&gt;</td>\n",
       "      <td>Still waiting supplies Liscus. &lt;LH&gt;</td>\n",
       "      <td>still wait suppli liscus. &lt;lh&gt;</td>\n",
       "      <td>still wait suppli liscus. &lt;lh&gt;</td>\n",
       "      <td>[still, wait, suppli, liscus, lh]</td>\n",
       "      <td>still wait suppli liscus lh</td>\n",
       "    </tr>\n",
       "  </tbody>\n",
       "</table>\n",
       "</div>"
      ],
      "text/plain": [
       "   tweet_id                                               text  \\\n",
       "0  0x376b20  People who post \"add me on #Snapchat\" must be ...   \n",
       "1  0x2d5350  @brianklaas As we see, Trump is dangerous to #...   \n",
       "3  0x1cd5b0                Now ISSA is stalking Tasha 😂😂😂 <LH>   \n",
       "5  0x1d755c  @RISKshow @TheKevinAllison Thx for the BEST TI...   \n",
       "6  0x2c91a8       Still waiting on those supplies Liscus. <LH>   \n",
       "\n",
       "                        hashtags       emotion identification  \\\n",
       "0                     [Snapchat]  anticipation          train   \n",
       "1  [freepress, TrumpLegacy, CNN]       sadness          train   \n",
       "3                             []          fear          train   \n",
       "5      [authentic, LaughOutLoud]           joy          train   \n",
       "6                             []  anticipation          train   \n",
       "\n",
       "                                          stop_words  \\\n",
       "0  People post \"add #Snapchat\" must dehydrated. C...   \n",
       "1  @brianklaas As see, Trump dangerous #freepress...   \n",
       "3                   Now ISSA stalking Tasha 😂😂😂 <LH>   \n",
       "5  @RISKshow @TheKevinAllison Thx BEST TIME tonig...   \n",
       "6                Still waiting supplies Liscus. <LH>   \n",
       "\n",
       "                                       sentimentText  \\\n",
       "0  People post \"add #Snapchat\" must dehydrated. C...   \n",
       "1  @brianklaas As see, Trump dangerous #freepress...   \n",
       "3                   Now ISSA stalking Tasha 😂😂😂 <LH>   \n",
       "5  @RISKshow @TheKevinAllison Thank You BEST TIME...   \n",
       "6                Still waiting supplies Liscus. <LH>   \n",
       "\n",
       "                                            stemming  \\\n",
       "0  peopl post \"add #snapchat\" must dehydrated. cu...   \n",
       "1  @brianklaa As see, trump danger #freepress aro...   \n",
       "3                      now issa stalk tasha 😂😂😂 <lh>   \n",
       "5  @riskshow @thekevinallison thank you best time...   \n",
       "6                     still wait suppli liscus. <lh>   \n",
       "\n",
       "                                         lemmazation  \\\n",
       "0  peopl post \"add #snapchat\" must dehydrated. cu...   \n",
       "1  @brianklaa As see, trump danger #freepress aro...   \n",
       "3                      now issa stalk tasha 😂😂😂 <lh>   \n",
       "5  @riskshow @thekevinallison thank you best time...   \n",
       "6                     still wait suppli liscus. <lh>   \n",
       "\n",
       "                                      text_tokenized  \\\n",
       "0  [peopl, post, add, snapchat, must, dehydrated,...   \n",
       "1  [brianklaa, As, see, trump, danger, freepress,...   \n",
       "3                 [now, issa, stalk, tasha, 😂😂😂, lh]   \n",
       "5  [riskshow, thekevinallison, thank, you, best, ...   \n",
       "6                  [still, wait, suppli, liscus, lh]   \n",
       "\n",
       "                                             cleaned  \n",
       "0  peopl post add snapchat must dehydrated cuz ma...  \n",
       "1  brianklaa As see trump danger freepress around...  \n",
       "3                        now issa stalk tasha 😂😂😂 lh  \n",
       "5  riskshow thekevinallison thank you best time t...  \n",
       "6                        still wait suppli liscus lh  "
      ]
     },
     "execution_count": 3,
     "metadata": {},
     "output_type": "execute_result"
    }
   ],
   "source": [
    "train_df.head()"
   ]
  },
  {
   "cell_type": "markdown",
   "metadata": {},
   "source": [
    "## test_df preprosscessing"
   ]
  },
  {
   "cell_type": "code",
   "execution_count": 4,
   "metadata": {
    "ExecuteTime": {
     "end_time": "2019-12-22T15:28:36.155609Z",
     "start_time": "2019-12-22T15:28:36.153308Z"
    }
   },
   "outputs": [],
   "source": [
    "tknr = Tokenizer(num_words=None, \n",
    "               filters='!\"#$%&()*,-./:;<=>?@[\\]^_`{|}~ ', \n",
    "               lower=True, \n",
    "               split=' ', \n",
    "               char_level=False, \n",
    "               oov_token=None, \n",
    "               document_count=0)"
   ]
  },
  {
   "cell_type": "code",
   "execution_count": 5,
   "metadata": {
    "ExecuteTime": {
     "end_time": "2019-12-22T15:28:38.835368Z",
     "start_time": "2019-12-22T15:28:36.156589Z"
    }
   },
   "outputs": [],
   "source": [
    "tokenizer = RegexpTokenizer(\"[\\w']+\")\n",
    "filt = '[!\"#$%&()*,-./:;<=>?@[\\]^_`{|}~ ]'\n",
    "test_df['split'] = test_df['text'].apply(lambda x: re.sub(filt, ' ', x))\n",
    "test_df['split'] = test_df['split'].apply(lambda x: re.sub(\" \\d+\", \" \", x))\n",
    "test_df['split'] = test_df['split'].apply(lambda x: x.split(\" \"))\n",
    "#test_df['split'] = test_df['text'].map(tokenizer.tokenize)\n",
    "#train_df['split'] = train_df['text'].map(tokenizer.tokenize)"
   ]
  },
  {
   "cell_type": "code",
   "execution_count": 6,
   "metadata": {
    "ExecuteTime": {
     "end_time": "2019-12-22T15:28:38.928210Z",
     "start_time": "2019-12-22T15:28:38.836514Z"
    }
   },
   "outputs": [
    {
     "name": "stdout",
     "output_type": "stream",
     "text": [
      "['My', 'baby', 'currently', 'thinks', 'naps', 'are', 'the', 'devil', '😒', '', 'LH', '']\n"
     ]
    }
   ],
   "source": [
    "print(test_df.loc[1867515]['split'])"
   ]
  },
  {
   "cell_type": "code",
   "execution_count": 7,
   "metadata": {
    "ExecuteTime": {
     "end_time": "2019-12-22T15:28:38.938815Z",
     "start_time": "2019-12-22T15:28:38.929173Z"
    }
   },
   "outputs": [
    {
     "data": {
      "text/html": [
       "<div>\n",
       "<style scoped>\n",
       "    .dataframe tbody tr th:only-of-type {\n",
       "        vertical-align: middle;\n",
       "    }\n",
       "\n",
       "    .dataframe tbody tr th {\n",
       "        vertical-align: top;\n",
       "    }\n",
       "\n",
       "    .dataframe thead th {\n",
       "        text-align: right;\n",
       "    }\n",
       "</style>\n",
       "<table border=\"1\" class=\"dataframe\">\n",
       "  <thead>\n",
       "    <tr style=\"text-align: right;\">\n",
       "      <th></th>\n",
       "      <th>hashtags</th>\n",
       "      <th>tweet_id</th>\n",
       "      <th>text</th>\n",
       "      <th>emotion</th>\n",
       "      <th>identification</th>\n",
       "      <th>split</th>\n",
       "    </tr>\n",
       "  </thead>\n",
       "  <tbody>\n",
       "    <tr>\n",
       "      <th>1867508</th>\n",
       "      <td>[]</td>\n",
       "      <td>0x388aad</td>\n",
       "      <td>My printer prints off all our devices but wont...</td>\n",
       "      <td>NaN</td>\n",
       "      <td>test</td>\n",
       "      <td>[My, printer, prints, off, all, our, devices, ...</td>\n",
       "    </tr>\n",
       "    <tr>\n",
       "      <th>1867515</th>\n",
       "      <td>[]</td>\n",
       "      <td>0x298005</td>\n",
       "      <td>My baby currently thinks naps are the devil 😒 ...</td>\n",
       "      <td>NaN</td>\n",
       "      <td>test</td>\n",
       "      <td>[My, baby, currently, thinks, naps, are, the, ...</td>\n",
       "    </tr>\n",
       "    <tr>\n",
       "      <th>1867519</th>\n",
       "      <td>[Eagles]</td>\n",
       "      <td>0x378811</td>\n",
       "      <td>Jake Elliott sets a new #Eagles record with 5 ...</td>\n",
       "      <td>NaN</td>\n",
       "      <td>test</td>\n",
       "      <td>[Jake, Elliott, sets, a, new, , Eagles, record...</td>\n",
       "    </tr>\n",
       "    <tr>\n",
       "      <th>1867521</th>\n",
       "      <td>[]</td>\n",
       "      <td>0x365a44</td>\n",
       "      <td>This planet really makes me sad.... THE NRA do...</td>\n",
       "      <td>NaN</td>\n",
       "      <td>test</td>\n",
       "      <td>[This, planet, really, makes, me, sad, , , , ,...</td>\n",
       "    </tr>\n",
       "    <tr>\n",
       "      <th>1867522</th>\n",
       "      <td>[]</td>\n",
       "      <td>0x32183f</td>\n",
       "      <td>I ate a donut and now I feel like throwing up ...</td>\n",
       "      <td>NaN</td>\n",
       "      <td>test</td>\n",
       "      <td>[I, ate, a, donut, and, now, I, feel, like, th...</td>\n",
       "    </tr>\n",
       "    <tr>\n",
       "      <th>1867525</th>\n",
       "      <td>[]</td>\n",
       "      <td>0x2913b4</td>\n",
       "      <td>\"For this is the message that ye heard from th...</td>\n",
       "      <td>NaN</td>\n",
       "      <td>test</td>\n",
       "      <td>[, For, this, is, the, message, that, ye, hear...</td>\n",
       "    </tr>\n",
       "    <tr>\n",
       "      <th>1867529</th>\n",
       "      <td>[]</td>\n",
       "      <td>0x2a980e</td>\n",
       "      <td>\"There is a lad here, which hath five barley l...</td>\n",
       "      <td>NaN</td>\n",
       "      <td>test</td>\n",
       "      <td>[, There, is, a, lad, here, , which, hath, fiv...</td>\n",
       "    </tr>\n",
       "    <tr>\n",
       "      <th>1867530</th>\n",
       "      <td>[mixedfeeling, butimTHATperson]</td>\n",
       "      <td>0x316b80</td>\n",
       "      <td>When you buy the last 2 tickets remaining for ...</td>\n",
       "      <td>NaN</td>\n",
       "      <td>test</td>\n",
       "      <td>[When, you, buy, the, last, , tickets, remaini...</td>\n",
       "    </tr>\n",
       "    <tr>\n",
       "      <th>1867531</th>\n",
       "      <td>[]</td>\n",
       "      <td>0x29d0cb</td>\n",
       "      <td>I swear all this hard work gone pay off one da...</td>\n",
       "      <td>NaN</td>\n",
       "      <td>test</td>\n",
       "      <td>[I, swear, all, this, hard, work, gone, pay, o...</td>\n",
       "    </tr>\n",
       "    <tr>\n",
       "      <th>1867532</th>\n",
       "      <td>[]</td>\n",
       "      <td>0x2a6a4f</td>\n",
       "      <td>@Parcel2Go no card left when I wasn't in so I ...</td>\n",
       "      <td>NaN</td>\n",
       "      <td>test</td>\n",
       "      <td>[, Parcel2Go, no, card, left, when, I, wasn't,...</td>\n",
       "    </tr>\n",
       "  </tbody>\n",
       "</table>\n",
       "</div>"
      ],
      "text/plain": [
       "                                hashtags  tweet_id  \\\n",
       "1867508                               []  0x388aad   \n",
       "1867515                               []  0x298005   \n",
       "1867519                         [Eagles]  0x378811   \n",
       "1867521                               []  0x365a44   \n",
       "1867522                               []  0x32183f   \n",
       "1867525                               []  0x2913b4   \n",
       "1867529                               []  0x2a980e   \n",
       "1867530  [mixedfeeling, butimTHATperson]  0x316b80   \n",
       "1867531                               []  0x29d0cb   \n",
       "1867532                               []  0x2a6a4f   \n",
       "\n",
       "                                                      text emotion  \\\n",
       "1867508  My printer prints off all our devices but wont...     NaN   \n",
       "1867515  My baby currently thinks naps are the devil 😒 ...     NaN   \n",
       "1867519  Jake Elliott sets a new #Eagles record with 5 ...     NaN   \n",
       "1867521  This planet really makes me sad.... THE NRA do...     NaN   \n",
       "1867522  I ate a donut and now I feel like throwing up ...     NaN   \n",
       "1867525  \"For this is the message that ye heard from th...     NaN   \n",
       "1867529  \"There is a lad here, which hath five barley l...     NaN   \n",
       "1867530  When you buy the last 2 tickets remaining for ...     NaN   \n",
       "1867531  I swear all this hard work gone pay off one da...     NaN   \n",
       "1867532  @Parcel2Go no card left when I wasn't in so I ...     NaN   \n",
       "\n",
       "        identification                                              split  \n",
       "1867508           test  [My, printer, prints, off, all, our, devices, ...  \n",
       "1867515           test  [My, baby, currently, thinks, naps, are, the, ...  \n",
       "1867519           test  [Jake, Elliott, sets, a, new, , Eagles, record...  \n",
       "1867521           test  [This, planet, really, makes, me, sad, , , , ,...  \n",
       "1867522           test  [I, ate, a, donut, and, now, I, feel, like, th...  \n",
       "1867525           test  [, For, this, is, the, message, that, ye, hear...  \n",
       "1867529           test  [, There, is, a, lad, here, , which, hath, fiv...  \n",
       "1867530           test  [When, you, buy, the, last, , tickets, remaini...  \n",
       "1867531           test  [I, swear, all, this, hard, work, gone, pay, o...  \n",
       "1867532           test  [, Parcel2Go, no, card, left, when, I, wasn't,...  "
      ]
     },
     "execution_count": 7,
     "metadata": {},
     "output_type": "execute_result"
    }
   ],
   "source": [
    "test_df[-10:]"
   ]
  },
  {
   "cell_type": "code",
   "execution_count": 8,
   "metadata": {
    "ExecuteTime": {
     "end_time": "2019-12-22T15:28:40.772151Z",
     "start_time": "2019-12-22T15:28:38.939753Z"
    }
   },
   "outputs": [],
   "source": [
    "stop_words = set(stopwords.words('english'))\n",
    "#train_df['no_stopwords'] = train_df['split'].apply(lambda x: [item for item in x if item not in stop_words])\n",
    "test_df['no_stopwords'] = test_df['split'].apply(lambda x: [item for item in x if item not in stop_words])\n",
    "test_df['no_stopwords'] = test_df['no_stopwords'].apply(lambda x: [item for item in x if len(item) > 1])"
   ]
  },
  {
   "cell_type": "code",
   "execution_count": 9,
   "metadata": {
    "ExecuteTime": {
     "end_time": "2019-12-22T15:28:40.845760Z",
     "start_time": "2019-12-22T15:28:40.773447Z"
    }
   },
   "outputs": [
    {
     "data": {
      "text/plain": [
       "{'Is',\n",
       " 'LH',\n",
       " 'When',\n",
       " 'enough',\n",
       " 'goal',\n",
       " 'materialism',\n",
       " 'money',\n",
       " 'possessions',\n",
       " 'really',\n",
       " 'satisfied'}"
      ]
     },
     "execution_count": 9,
     "metadata": {},
     "output_type": "execute_result"
    }
   ],
   "source": [
    "set(test_df.loc[9]['no_stopwords'])"
   ]
  },
  {
   "cell_type": "code",
   "execution_count": 10,
   "metadata": {
    "ExecuteTime": {
     "end_time": "2019-12-22T15:28:40.849455Z",
     "start_time": "2019-12-22T15:28:40.846841Z"
    }
   },
   "outputs": [
    {
     "name": "stdout",
     "output_type": "stream",
     "text": [
      "My baby currently thinks naps are the devil 😒 <LH>\n",
      "['My', 'baby', 'currently', 'thinks', 'naps', 'devil', 'LH']\n"
     ]
    }
   ],
   "source": [
    "print(test_df.loc[1867515]['text'])\n",
    "print(test_df.loc[1867515]['no_stopwords'])"
   ]
  },
  {
   "cell_type": "code",
   "execution_count": 11,
   "metadata": {
    "ExecuteTime": {
     "end_time": "2019-12-22T15:28:40.861833Z",
     "start_time": "2019-12-22T15:28:40.850607Z"
    }
   },
   "outputs": [
    {
     "data": {
      "text/html": [
       "<div>\n",
       "<style scoped>\n",
       "    .dataframe tbody tr th:only-of-type {\n",
       "        vertical-align: middle;\n",
       "    }\n",
       "\n",
       "    .dataframe tbody tr th {\n",
       "        vertical-align: top;\n",
       "    }\n",
       "\n",
       "    .dataframe thead th {\n",
       "        text-align: right;\n",
       "    }\n",
       "</style>\n",
       "<table border=\"1\" class=\"dataframe\">\n",
       "  <thead>\n",
       "    <tr style=\"text-align: right;\">\n",
       "      <th></th>\n",
       "      <th>hashtags</th>\n",
       "      <th>tweet_id</th>\n",
       "      <th>text</th>\n",
       "      <th>emotion</th>\n",
       "      <th>identification</th>\n",
       "      <th>split</th>\n",
       "      <th>no_stopwords</th>\n",
       "    </tr>\n",
       "  </thead>\n",
       "  <tbody>\n",
       "    <tr>\n",
       "      <th>1867508</th>\n",
       "      <td>[]</td>\n",
       "      <td>0x388aad</td>\n",
       "      <td>My printer prints off all our devices but wont...</td>\n",
       "      <td>NaN</td>\n",
       "      <td>test</td>\n",
       "      <td>[My, printer, prints, off, all, our, devices, ...</td>\n",
       "      <td>[My, printer, prints, devices, wont, laptop, I...</td>\n",
       "    </tr>\n",
       "    <tr>\n",
       "      <th>1867515</th>\n",
       "      <td>[]</td>\n",
       "      <td>0x298005</td>\n",
       "      <td>My baby currently thinks naps are the devil 😒 ...</td>\n",
       "      <td>NaN</td>\n",
       "      <td>test</td>\n",
       "      <td>[My, baby, currently, thinks, naps, are, the, ...</td>\n",
       "      <td>[My, baby, currently, thinks, naps, devil, LH]</td>\n",
       "    </tr>\n",
       "    <tr>\n",
       "      <th>1867519</th>\n",
       "      <td>[Eagles]</td>\n",
       "      <td>0x378811</td>\n",
       "      <td>Jake Elliott sets a new #Eagles record with 5 ...</td>\n",
       "      <td>NaN</td>\n",
       "      <td>test</td>\n",
       "      <td>[Jake, Elliott, sets, a, new, , Eagles, record...</td>\n",
       "      <td>[Jake, Elliott, sets, new, Eagles, record, fie...</td>\n",
       "    </tr>\n",
       "    <tr>\n",
       "      <th>1867521</th>\n",
       "      <td>[]</td>\n",
       "      <td>0x365a44</td>\n",
       "      <td>This planet really makes me sad.... THE NRA do...</td>\n",
       "      <td>NaN</td>\n",
       "      <td>test</td>\n",
       "      <td>[This, planet, really, makes, me, sad, , , , ,...</td>\n",
       "      <td>[This, planet, really, makes, sad, THE, NRA, l...</td>\n",
       "    </tr>\n",
       "    <tr>\n",
       "      <th>1867522</th>\n",
       "      <td>[]</td>\n",
       "      <td>0x32183f</td>\n",
       "      <td>I ate a donut and now I feel like throwing up ...</td>\n",
       "      <td>NaN</td>\n",
       "      <td>test</td>\n",
       "      <td>[I, ate, a, donut, and, now, I, feel, like, th...</td>\n",
       "      <td>[ate, donut, feel, like, throwing, LH]</td>\n",
       "    </tr>\n",
       "    <tr>\n",
       "      <th>1867525</th>\n",
       "      <td>[]</td>\n",
       "      <td>0x2913b4</td>\n",
       "      <td>\"For this is the message that ye heard from th...</td>\n",
       "      <td>NaN</td>\n",
       "      <td>test</td>\n",
       "      <td>[, For, this, is, the, message, that, ye, hear...</td>\n",
       "      <td>[For, message, ye, heard, beginning, love, one...</td>\n",
       "    </tr>\n",
       "    <tr>\n",
       "      <th>1867529</th>\n",
       "      <td>[]</td>\n",
       "      <td>0x2a980e</td>\n",
       "      <td>\"There is a lad here, which hath five barley l...</td>\n",
       "      <td>NaN</td>\n",
       "      <td>test</td>\n",
       "      <td>[, There, is, a, lad, here, , which, hath, fiv...</td>\n",
       "      <td>[There, lad, hath, five, barley, loaves, two, ...</td>\n",
       "    </tr>\n",
       "    <tr>\n",
       "      <th>1867530</th>\n",
       "      <td>[mixedfeeling, butimTHATperson]</td>\n",
       "      <td>0x316b80</td>\n",
       "      <td>When you buy the last 2 tickets remaining for ...</td>\n",
       "      <td>NaN</td>\n",
       "      <td>test</td>\n",
       "      <td>[When, you, buy, the, last, , tickets, remaini...</td>\n",
       "      <td>[When, buy, last, tickets, remaining, show, se...</td>\n",
       "    </tr>\n",
       "    <tr>\n",
       "      <th>1867531</th>\n",
       "      <td>[]</td>\n",
       "      <td>0x29d0cb</td>\n",
       "      <td>I swear all this hard work gone pay off one da...</td>\n",
       "      <td>NaN</td>\n",
       "      <td>test</td>\n",
       "      <td>[I, swear, all, this, hard, work, gone, pay, o...</td>\n",
       "      <td>[swear, hard, work, gone, pay, one, day😈💰💸, LH]</td>\n",
       "    </tr>\n",
       "    <tr>\n",
       "      <th>1867532</th>\n",
       "      <td>[]</td>\n",
       "      <td>0x2a6a4f</td>\n",
       "      <td>@Parcel2Go no card left when I wasn't in so I ...</td>\n",
       "      <td>NaN</td>\n",
       "      <td>test</td>\n",
       "      <td>[, Parcel2Go, no, card, left, when, I, wasn't,...</td>\n",
       "      <td>[Parcel2Go, card, left, idea, get, parcel, LH]</td>\n",
       "    </tr>\n",
       "  </tbody>\n",
       "</table>\n",
       "</div>"
      ],
      "text/plain": [
       "                                hashtags  tweet_id  \\\n",
       "1867508                               []  0x388aad   \n",
       "1867515                               []  0x298005   \n",
       "1867519                         [Eagles]  0x378811   \n",
       "1867521                               []  0x365a44   \n",
       "1867522                               []  0x32183f   \n",
       "1867525                               []  0x2913b4   \n",
       "1867529                               []  0x2a980e   \n",
       "1867530  [mixedfeeling, butimTHATperson]  0x316b80   \n",
       "1867531                               []  0x29d0cb   \n",
       "1867532                               []  0x2a6a4f   \n",
       "\n",
       "                                                      text emotion  \\\n",
       "1867508  My printer prints off all our devices but wont...     NaN   \n",
       "1867515  My baby currently thinks naps are the devil 😒 ...     NaN   \n",
       "1867519  Jake Elliott sets a new #Eagles record with 5 ...     NaN   \n",
       "1867521  This planet really makes me sad.... THE NRA do...     NaN   \n",
       "1867522  I ate a donut and now I feel like throwing up ...     NaN   \n",
       "1867525  \"For this is the message that ye heard from th...     NaN   \n",
       "1867529  \"There is a lad here, which hath five barley l...     NaN   \n",
       "1867530  When you buy the last 2 tickets remaining for ...     NaN   \n",
       "1867531  I swear all this hard work gone pay off one da...     NaN   \n",
       "1867532  @Parcel2Go no card left when I wasn't in so I ...     NaN   \n",
       "\n",
       "        identification                                              split  \\\n",
       "1867508           test  [My, printer, prints, off, all, our, devices, ...   \n",
       "1867515           test  [My, baby, currently, thinks, naps, are, the, ...   \n",
       "1867519           test  [Jake, Elliott, sets, a, new, , Eagles, record...   \n",
       "1867521           test  [This, planet, really, makes, me, sad, , , , ,...   \n",
       "1867522           test  [I, ate, a, donut, and, now, I, feel, like, th...   \n",
       "1867525           test  [, For, this, is, the, message, that, ye, hear...   \n",
       "1867529           test  [, There, is, a, lad, here, , which, hath, fiv...   \n",
       "1867530           test  [When, you, buy, the, last, , tickets, remaini...   \n",
       "1867531           test  [I, swear, all, this, hard, work, gone, pay, o...   \n",
       "1867532           test  [, Parcel2Go, no, card, left, when, I, wasn't,...   \n",
       "\n",
       "                                              no_stopwords  \n",
       "1867508  [My, printer, prints, devices, wont, laptop, I...  \n",
       "1867515     [My, baby, currently, thinks, naps, devil, LH]  \n",
       "1867519  [Jake, Elliott, sets, new, Eagles, record, fie...  \n",
       "1867521  [This, planet, really, makes, sad, THE, NRA, l...  \n",
       "1867522             [ate, donut, feel, like, throwing, LH]  \n",
       "1867525  [For, message, ye, heard, beginning, love, one...  \n",
       "1867529  [There, lad, hath, five, barley, loaves, two, ...  \n",
       "1867530  [When, buy, last, tickets, remaining, show, se...  \n",
       "1867531    [swear, hard, work, gone, pay, one, day😈💰💸, LH]  \n",
       "1867532     [Parcel2Go, card, left, idea, get, parcel, LH]  "
      ]
     },
     "execution_count": 11,
     "metadata": {},
     "output_type": "execute_result"
    }
   ],
   "source": [
    "test_df[-10:]"
   ]
  },
  {
   "cell_type": "code",
   "execution_count": 12,
   "metadata": {
    "ExecuteTime": {
     "end_time": "2019-12-22T15:29:23.572504Z",
     "start_time": "2019-12-22T15:28:40.862872Z"
    }
   },
   "outputs": [],
   "source": [
    "porter = nltk.stem.PorterStemmer()\n",
    "\n",
    "#train_df['stemmed'] = train_df['no_stopwords'].apply(lambda x: [porter.stem(y) for y in x])\n",
    "test_df['stemmed'] = test_df['no_stopwords'].apply(lambda x: [porter.stem(y) for y in x])"
   ]
  },
  {
   "cell_type": "code",
   "execution_count": 13,
   "metadata": {
    "ExecuteTime": {
     "end_time": "2019-12-22T15:29:32.826764Z",
     "start_time": "2019-12-22T15:29:23.573784Z"
    }
   },
   "outputs": [],
   "source": [
    "lemmatizer = WordNetLemmatizer() \n",
    "#train_df['lemmatization'] = train_df['stemmed'].apply(lambda x: [lemmatizer.lemmatize(y) for y in x])\n",
    "test_df['lemmatization'] = test_df['stemmed'].apply(lambda x: [lemmatizer.lemmatize(y) for y in x])"
   ]
  },
  {
   "cell_type": "code",
   "execution_count": 14,
   "metadata": {
    "ExecuteTime": {
     "end_time": "2019-12-22T15:29:32.979557Z",
     "start_time": "2019-12-22T15:29:32.827948Z"
    }
   },
   "outputs": [],
   "source": [
    "#train_df['cleaned'] = train_df['lemmatization'].apply(' '.join)\n",
    "test_df['cleaned'] = test_df['lemmatization'].apply(' '.join)"
   ]
  },
  {
   "cell_type": "code",
   "execution_count": 15,
   "metadata": {
    "ExecuteTime": {
     "end_time": "2019-12-22T15:29:32.996232Z",
     "start_time": "2019-12-22T15:29:32.980487Z"
    }
   },
   "outputs": [
    {
     "data": {
      "text/html": [
       "<div>\n",
       "<style scoped>\n",
       "    .dataframe tbody tr th:only-of-type {\n",
       "        vertical-align: middle;\n",
       "    }\n",
       "\n",
       "    .dataframe tbody tr th {\n",
       "        vertical-align: top;\n",
       "    }\n",
       "\n",
       "    .dataframe thead th {\n",
       "        text-align: right;\n",
       "    }\n",
       "</style>\n",
       "<table border=\"1\" class=\"dataframe\">\n",
       "  <thead>\n",
       "    <tr style=\"text-align: right;\">\n",
       "      <th></th>\n",
       "      <th>hashtags</th>\n",
       "      <th>tweet_id</th>\n",
       "      <th>text</th>\n",
       "      <th>emotion</th>\n",
       "      <th>identification</th>\n",
       "      <th>split</th>\n",
       "      <th>no_stopwords</th>\n",
       "      <th>stemmed</th>\n",
       "      <th>lemmatization</th>\n",
       "      <th>cleaned</th>\n",
       "    </tr>\n",
       "  </thead>\n",
       "  <tbody>\n",
       "    <tr>\n",
       "      <th>1867508</th>\n",
       "      <td>[]</td>\n",
       "      <td>0x388aad</td>\n",
       "      <td>My printer prints off all our devices but wont...</td>\n",
       "      <td>NaN</td>\n",
       "      <td>test</td>\n",
       "      <td>[My, printer, prints, off, all, our, devices, ...</td>\n",
       "      <td>[My, printer, prints, devices, wont, laptop, I...</td>\n",
       "      <td>[My, printer, print, devic, wont, laptop, It, ...</td>\n",
       "      <td>[My, printer, print, devic, wont, laptop, It, ...</td>\n",
       "      <td>My printer print devic wont laptop It print te...</td>\n",
       "    </tr>\n",
       "    <tr>\n",
       "      <th>1867515</th>\n",
       "      <td>[]</td>\n",
       "      <td>0x298005</td>\n",
       "      <td>My baby currently thinks naps are the devil 😒 ...</td>\n",
       "      <td>NaN</td>\n",
       "      <td>test</td>\n",
       "      <td>[My, baby, currently, thinks, naps, are, the, ...</td>\n",
       "      <td>[My, baby, currently, thinks, naps, devil, LH]</td>\n",
       "      <td>[My, babi, current, think, nap, devil, LH]</td>\n",
       "      <td>[My, babi, current, think, nap, devil, LH]</td>\n",
       "      <td>My babi current think nap devil LH</td>\n",
       "    </tr>\n",
       "    <tr>\n",
       "      <th>1867519</th>\n",
       "      <td>[Eagles]</td>\n",
       "      <td>0x378811</td>\n",
       "      <td>Jake Elliott sets a new #Eagles record with 5 ...</td>\n",
       "      <td>NaN</td>\n",
       "      <td>test</td>\n",
       "      <td>[Jake, Elliott, sets, a, new, , Eagles, record...</td>\n",
       "      <td>[Jake, Elliott, sets, new, Eagles, record, fie...</td>\n",
       "      <td>[jake, elliott, set, new, eagl, record, field,...</td>\n",
       "      <td>[jake, elliott, set, new, eagl, record, field,...</td>\n",
       "      <td>jake elliott set new eagl record field goal ya...</td>\n",
       "    </tr>\n",
       "    <tr>\n",
       "      <th>1867521</th>\n",
       "      <td>[]</td>\n",
       "      <td>0x365a44</td>\n",
       "      <td>This planet really makes me sad.... THE NRA do...</td>\n",
       "      <td>NaN</td>\n",
       "      <td>test</td>\n",
       "      <td>[This, planet, really, makes, me, sad, , , , ,...</td>\n",
       "      <td>[This, planet, really, makes, sad, THE, NRA, l...</td>\n",
       "      <td>[thi, planet, realli, make, sad, the, nra, lov...</td>\n",
       "      <td>[thi, planet, realli, make, sad, the, nra, lov...</td>\n",
       "      <td>thi planet realli make sad the nra love social LH</td>\n",
       "    </tr>\n",
       "    <tr>\n",
       "      <th>1867522</th>\n",
       "      <td>[]</td>\n",
       "      <td>0x32183f</td>\n",
       "      <td>I ate a donut and now I feel like throwing up ...</td>\n",
       "      <td>NaN</td>\n",
       "      <td>test</td>\n",
       "      <td>[I, ate, a, donut, and, now, I, feel, like, th...</td>\n",
       "      <td>[ate, donut, feel, like, throwing, LH]</td>\n",
       "      <td>[ate, donut, feel, like, throw, LH]</td>\n",
       "      <td>[ate, donut, feel, like, throw, LH]</td>\n",
       "      <td>ate donut feel like throw LH</td>\n",
       "    </tr>\n",
       "    <tr>\n",
       "      <th>1867525</th>\n",
       "      <td>[]</td>\n",
       "      <td>0x2913b4</td>\n",
       "      <td>\"For this is the message that ye heard from th...</td>\n",
       "      <td>NaN</td>\n",
       "      <td>test</td>\n",
       "      <td>[, For, this, is, the, message, that, ye, hear...</td>\n",
       "      <td>[For, message, ye, heard, beginning, love, one...</td>\n",
       "      <td>[for, messag, ye, heard, begin, love, one, ano...</td>\n",
       "      <td>[for, messag, ye, heard, begin, love, one, ano...</td>\n",
       "      <td>for messag ye heard begin love one anoth john ...</td>\n",
       "    </tr>\n",
       "    <tr>\n",
       "      <th>1867529</th>\n",
       "      <td>[]</td>\n",
       "      <td>0x2a980e</td>\n",
       "      <td>\"There is a lad here, which hath five barley l...</td>\n",
       "      <td>NaN</td>\n",
       "      <td>test</td>\n",
       "      <td>[, There, is, a, lad, here, , which, hath, fiv...</td>\n",
       "      <td>[There, lad, hath, five, barley, loaves, two, ...</td>\n",
       "      <td>[there, lad, hath, five, barley, loav, two, sm...</td>\n",
       "      <td>[there, lad, hath, five, barley, loav, two, sm...</td>\n",
       "      <td>there lad hath five barley loav two small fish...</td>\n",
       "    </tr>\n",
       "    <tr>\n",
       "      <th>1867530</th>\n",
       "      <td>[mixedfeeling, butimTHATperson]</td>\n",
       "      <td>0x316b80</td>\n",
       "      <td>When you buy the last 2 tickets remaining for ...</td>\n",
       "      <td>NaN</td>\n",
       "      <td>test</td>\n",
       "      <td>[When, you, buy, the, last, , tickets, remaini...</td>\n",
       "      <td>[When, buy, last, tickets, remaining, show, se...</td>\n",
       "      <td>[when, buy, last, ticket, remain, show, sell, ...</td>\n",
       "      <td>[when, buy, last, ticket, remain, show, sell, ...</td>\n",
       "      <td>when buy last ticket remain show sell mixedfee...</td>\n",
       "    </tr>\n",
       "    <tr>\n",
       "      <th>1867531</th>\n",
       "      <td>[]</td>\n",
       "      <td>0x29d0cb</td>\n",
       "      <td>I swear all this hard work gone pay off one da...</td>\n",
       "      <td>NaN</td>\n",
       "      <td>test</td>\n",
       "      <td>[I, swear, all, this, hard, work, gone, pay, o...</td>\n",
       "      <td>[swear, hard, work, gone, pay, one, day😈💰💸, LH]</td>\n",
       "      <td>[swear, hard, work, gone, pay, one, day😈💰💸, LH]</td>\n",
       "      <td>[swear, hard, work, gone, pay, one, day😈💰💸, LH]</td>\n",
       "      <td>swear hard work gone pay one day😈💰💸 LH</td>\n",
       "    </tr>\n",
       "    <tr>\n",
       "      <th>1867532</th>\n",
       "      <td>[]</td>\n",
       "      <td>0x2a6a4f</td>\n",
       "      <td>@Parcel2Go no card left when I wasn't in so I ...</td>\n",
       "      <td>NaN</td>\n",
       "      <td>test</td>\n",
       "      <td>[, Parcel2Go, no, card, left, when, I, wasn't,...</td>\n",
       "      <td>[Parcel2Go, card, left, idea, get, parcel, LH]</td>\n",
       "      <td>[parcel2go, card, left, idea, get, parcel, LH]</td>\n",
       "      <td>[parcel2go, card, left, idea, get, parcel, LH]</td>\n",
       "      <td>parcel2go card left idea get parcel LH</td>\n",
       "    </tr>\n",
       "  </tbody>\n",
       "</table>\n",
       "</div>"
      ],
      "text/plain": [
       "                                hashtags  tweet_id  \\\n",
       "1867508                               []  0x388aad   \n",
       "1867515                               []  0x298005   \n",
       "1867519                         [Eagles]  0x378811   \n",
       "1867521                               []  0x365a44   \n",
       "1867522                               []  0x32183f   \n",
       "1867525                               []  0x2913b4   \n",
       "1867529                               []  0x2a980e   \n",
       "1867530  [mixedfeeling, butimTHATperson]  0x316b80   \n",
       "1867531                               []  0x29d0cb   \n",
       "1867532                               []  0x2a6a4f   \n",
       "\n",
       "                                                      text emotion  \\\n",
       "1867508  My printer prints off all our devices but wont...     NaN   \n",
       "1867515  My baby currently thinks naps are the devil 😒 ...     NaN   \n",
       "1867519  Jake Elliott sets a new #Eagles record with 5 ...     NaN   \n",
       "1867521  This planet really makes me sad.... THE NRA do...     NaN   \n",
       "1867522  I ate a donut and now I feel like throwing up ...     NaN   \n",
       "1867525  \"For this is the message that ye heard from th...     NaN   \n",
       "1867529  \"There is a lad here, which hath five barley l...     NaN   \n",
       "1867530  When you buy the last 2 tickets remaining for ...     NaN   \n",
       "1867531  I swear all this hard work gone pay off one da...     NaN   \n",
       "1867532  @Parcel2Go no card left when I wasn't in so I ...     NaN   \n",
       "\n",
       "        identification                                              split  \\\n",
       "1867508           test  [My, printer, prints, off, all, our, devices, ...   \n",
       "1867515           test  [My, baby, currently, thinks, naps, are, the, ...   \n",
       "1867519           test  [Jake, Elliott, sets, a, new, , Eagles, record...   \n",
       "1867521           test  [This, planet, really, makes, me, sad, , , , ,...   \n",
       "1867522           test  [I, ate, a, donut, and, now, I, feel, like, th...   \n",
       "1867525           test  [, For, this, is, the, message, that, ye, hear...   \n",
       "1867529           test  [, There, is, a, lad, here, , which, hath, fiv...   \n",
       "1867530           test  [When, you, buy, the, last, , tickets, remaini...   \n",
       "1867531           test  [I, swear, all, this, hard, work, gone, pay, o...   \n",
       "1867532           test  [, Parcel2Go, no, card, left, when, I, wasn't,...   \n",
       "\n",
       "                                              no_stopwords  \\\n",
       "1867508  [My, printer, prints, devices, wont, laptop, I...   \n",
       "1867515     [My, baby, currently, thinks, naps, devil, LH]   \n",
       "1867519  [Jake, Elliott, sets, new, Eagles, record, fie...   \n",
       "1867521  [This, planet, really, makes, sad, THE, NRA, l...   \n",
       "1867522             [ate, donut, feel, like, throwing, LH]   \n",
       "1867525  [For, message, ye, heard, beginning, love, one...   \n",
       "1867529  [There, lad, hath, five, barley, loaves, two, ...   \n",
       "1867530  [When, buy, last, tickets, remaining, show, se...   \n",
       "1867531    [swear, hard, work, gone, pay, one, day😈💰💸, LH]   \n",
       "1867532     [Parcel2Go, card, left, idea, get, parcel, LH]   \n",
       "\n",
       "                                                   stemmed  \\\n",
       "1867508  [My, printer, print, devic, wont, laptop, It, ...   \n",
       "1867515         [My, babi, current, think, nap, devil, LH]   \n",
       "1867519  [jake, elliott, set, new, eagl, record, field,...   \n",
       "1867521  [thi, planet, realli, make, sad, the, nra, lov...   \n",
       "1867522                [ate, donut, feel, like, throw, LH]   \n",
       "1867525  [for, messag, ye, heard, begin, love, one, ano...   \n",
       "1867529  [there, lad, hath, five, barley, loav, two, sm...   \n",
       "1867530  [when, buy, last, ticket, remain, show, sell, ...   \n",
       "1867531    [swear, hard, work, gone, pay, one, day😈💰💸, LH]   \n",
       "1867532     [parcel2go, card, left, idea, get, parcel, LH]   \n",
       "\n",
       "                                             lemmatization  \\\n",
       "1867508  [My, printer, print, devic, wont, laptop, It, ...   \n",
       "1867515         [My, babi, current, think, nap, devil, LH]   \n",
       "1867519  [jake, elliott, set, new, eagl, record, field,...   \n",
       "1867521  [thi, planet, realli, make, sad, the, nra, lov...   \n",
       "1867522                [ate, donut, feel, like, throw, LH]   \n",
       "1867525  [for, messag, ye, heard, begin, love, one, ano...   \n",
       "1867529  [there, lad, hath, five, barley, loav, two, sm...   \n",
       "1867530  [when, buy, last, ticket, remain, show, sell, ...   \n",
       "1867531    [swear, hard, work, gone, pay, one, day😈💰💸, LH]   \n",
       "1867532     [parcel2go, card, left, idea, get, parcel, LH]   \n",
       "\n",
       "                                                   cleaned  \n",
       "1867508  My printer print devic wont laptop It print te...  \n",
       "1867515                 My babi current think nap devil LH  \n",
       "1867519  jake elliott set new eagl record field goal ya...  \n",
       "1867521  thi planet realli make sad the nra love social LH  \n",
       "1867522                       ate donut feel like throw LH  \n",
       "1867525  for messag ye heard begin love one anoth john ...  \n",
       "1867529  there lad hath five barley loav two small fish...  \n",
       "1867530  when buy last ticket remain show sell mixedfee...  \n",
       "1867531             swear hard work gone pay one day😈💰💸 LH  \n",
       "1867532             parcel2go card left idea get parcel LH  "
      ]
     },
     "execution_count": 15,
     "metadata": {},
     "output_type": "execute_result"
    }
   ],
   "source": [
    "test_df[-10:]"
   ]
  },
  {
   "cell_type": "code",
   "execution_count": 16,
   "metadata": {
    "ExecuteTime": {
     "end_time": "2019-12-22T15:29:44.046275Z",
     "start_time": "2019-12-22T15:29:32.997127Z"
    }
   },
   "outputs": [
    {
     "data": {
      "text/plain": [
       "TfidfVectorizer(analyzer='word', binary=False, decode_error='strict',\n",
       "        dtype=<class 'numpy.float64'>, encoding='utf-8', input='content',\n",
       "        lowercase=True, max_df=1.0, max_features=15000, min_df=1,\n",
       "        ngram_range=(1, 1), norm='l2', preprocessor=None, smooth_idf=True,\n",
       "        stop_words=None, strip_accents=None, sublinear_tf=False,\n",
       "        token_pattern='(?u)\\\\b[^\\\\d\\\\W][^\\\\d\\\\W]+\\\\b', tokenizer=None,\n",
       "        use_idf=True, vocabulary=None)"
      ]
     },
     "execution_count": 16,
     "metadata": {},
     "output_type": "execute_result"
    }
   ],
   "source": [
    "tknzr = TweetTokenizer()\n",
    "# TF-IDF\n",
    "MAX_WORD = 15000\n",
    "\n",
    "\n",
    "tfidf_vectorizer = TfidfVectorizer(\n",
    "    max_features=MAX_WORD, \n",
    "    use_idf=True, \n",
    "    token_pattern='(?u)\\\\b[^\\\\d\\\\W][^\\\\d\\\\W]+\\\\b', \n",
    "#     tokenizer=tknzr.tokenize,\n",
    "#     stop_words=stopwords.words('english')\n",
    "    )\n",
    "tfidf_vectorizer.fit(train_df['cleaned'])"
   ]
  },
  {
   "cell_type": "code",
   "execution_count": 17,
   "metadata": {
    "ExecuteTime": {
     "end_time": "2019-12-22T15:29:44.057973Z",
     "start_time": "2019-12-22T15:29:44.047449Z"
    }
   },
   "outputs": [],
   "source": [
    "token_dict = {}\n",
    "for idx, token in enumerate(tfidf_vectorizer.get_feature_names()):\n",
    "    token_dict[token] = idx"
   ]
  },
  {
   "cell_type": "code",
   "execution_count": 18,
   "metadata": {
    "ExecuteTime": {
     "end_time": "2019-12-22T15:30:14.161641Z",
     "start_time": "2019-12-22T15:29:44.059005Z"
    }
   },
   "outputs": [],
   "source": [
    "word2vec_model = KeyedVectors.load_word2vec_format(\"../../Word2Vec/model_ENC3.bin\", binary=True)"
   ]
  },
  {
   "cell_type": "code",
   "execution_count": 19,
   "metadata": {
    "ExecuteTime": {
     "end_time": "2019-12-22T15:30:14.165176Z",
     "start_time": "2019-12-22T15:30:14.162682Z"
    }
   },
   "outputs": [],
   "source": [
    "EMBEDDING_DIM = 300\n",
    "# MAX_WORD = 5000\n",
    "def word2vec_matrix():\n",
    "#     token_dict = tknr.word_index()\n",
    "    matrix_emb = np.zeros((len(token_dict)+1, EMBEDDING_DIM)) # replace MAX_WORD to len(token_dict)\n",
    "    for word, idx in token_dict.items():\n",
    "        try:\n",
    "            vector =  word2vec_model.wv[word]\n",
    "        except:\n",
    "            vector = np.zeros(300,)\n",
    "#         if idx < MAX_WORD and vector:\n",
    "        if idx < MAX_WORD:\n",
    "            matrix_emb[idx] = np.array(vector)\n",
    "    matrix_emb[MAX_WORD] = np.zeros(300,)     \n",
    "    return matrix_emb"
   ]
  },
  {
   "cell_type": "code",
   "execution_count": 20,
   "metadata": {
    "ExecuteTime": {
     "end_time": "2019-12-22T15:30:14.169074Z",
     "start_time": "2019-12-22T15:30:14.166049Z"
    }
   },
   "outputs": [],
   "source": [
    "MAX_SEQUENCE_LENGTH = 50\n",
    "\n",
    "def text_to_sequence(texts):\n",
    "    tokenized_texts = []\n",
    "    for string in texts:\n",
    "        tokenized_text = []\n",
    "        for idx, word in enumerate(string.split(' ')):\n",
    "            \n",
    "            # truncate\n",
    "            if idx >= MAX_SEQUENCE_LENGTH: break \n",
    "                \n",
    "            try:\n",
    "                token = token_dict[word.lower()]\n",
    "            except:\n",
    "                token = MAX_WORD\n",
    "            tokenized_text.append(token)\n",
    "            \n",
    "        # padding \n",
    "        if len(tokenized_text) < MAX_SEQUENCE_LENGTH: \n",
    "#             print(len(tokenized_text))\n",
    "            tokenized_text.extend([MAX_WORD]*(MAX_SEQUENCE_LENGTH-len(tokenized_text)))\n",
    "                \n",
    "        tokenized_texts.append(tokenized_text)\n",
    "    \n",
    "\n",
    "#     print(max([len(texts) for texts in tokenized_texts]))\n",
    "    return np.array(tokenized_texts)"
   ]
  },
  {
   "cell_type": "code",
   "execution_count": 21,
   "metadata": {
    "ExecuteTime": {
     "end_time": "2019-12-22T15:30:14.172216Z",
     "start_time": "2019-12-22T15:30:14.170118Z"
    }
   },
   "outputs": [],
   "source": [
    "emotion_array = ['anger', 'anticipation', 'disgust', 'fear', 'joy', 'sadness', 'surprise','trust']"
   ]
  },
  {
   "cell_type": "code",
   "execution_count": 22,
   "metadata": {
    "ExecuteTime": {
     "end_time": "2019-12-22T15:30:14.175120Z",
     "start_time": "2019-12-22T15:30:14.173185Z"
    }
   },
   "outputs": [],
   "source": [
    "def emotion_to_sequence(emotions):\n",
    "    tokenized_emotions = []\n",
    "    for string in emotions:\n",
    "        token = emotion_array.index(string)\n",
    "#         print(token)\n",
    "        tokenized_emotions.append(token)\n",
    "    return to_categorical(tokenized_emotions)"
   ]
  },
  {
   "cell_type": "code",
   "execution_count": 23,
   "metadata": {
    "ExecuteTime": {
     "end_time": "2019-12-22T15:30:14.178737Z",
     "start_time": "2019-12-22T15:30:14.175983Z"
    },
    "code_folding": []
   },
   "outputs": [
    {
     "name": "stdout",
     "output_type": "stream",
     "text": [
      "check label:  ['anger' 'anticipation' 'disgust' 'fear' 'joy' 'sadness' 'surprise'\n",
      " 'trust']\n"
     ]
    }
   ],
   "source": [
    "from sklearn.preprocessing import LabelEncoder\n",
    "\n",
    "label_encoder = LabelEncoder()\n",
    "label_encoder.fit(emotion_array)\n",
    "\n",
    "print('check label: ', label_encoder.classes_)\n",
    "def label_encode(le, labels):\n",
    "    enc = le.transform(labels)\n",
    "    return keras.utils.to_categorical(enc)\n",
    "def label_decode(le, one_hot_label):\n",
    "    dec = np.argmax(one_hot_label, axis=1)\n",
    "    return le.inverse_transform(dec)"
   ]
  },
  {
   "cell_type": "code",
   "execution_count": 24,
   "metadata": {
    "ExecuteTime": {
     "end_time": "2019-12-22T15:30:15.618480Z",
     "start_time": "2019-12-22T15:30:14.179707Z"
    }
   },
   "outputs": [],
   "source": [
    "# shuffle dataset\n",
    "train_df = train_df.sample(frac=1)"
   ]
  },
  {
   "cell_type": "code",
   "execution_count": 25,
   "metadata": {
    "ExecuteTime": {
     "end_time": "2019-12-22T15:30:27.761702Z",
     "start_time": "2019-12-22T15:30:15.619614Z"
    }
   },
   "outputs": [],
   "source": [
    "train_sequence = text_to_sequence(train_df['cleaned'])\n",
    "train_label = emotion_to_sequence(train_df['emotion'])\n",
    "\n",
    "test_sequence = text_to_sequence(test_df['cleaned'])\n"
   ]
  },
  {
   "cell_type": "code",
   "execution_count": 28,
   "metadata": {
    "ExecuteTime": {
     "end_time": "2019-12-22T15:31:05.265204Z",
     "start_time": "2019-12-22T15:31:05.257916Z"
    }
   },
   "outputs": [],
   "source": [
    "LSTM1_DIM = 256\n",
    "# LSTM2_DIM = 200\n",
    "DENSE1_DIM = 512\n",
    "DENSE2_DIM = 512\n",
    "CATEGORY_NUM = 8\n",
    "BATCH_SIZE = 1000\n",
    "VALIDATION_SPLIT = 0.2\n",
    "EPOCHS = 6\n",
    "\n",
    "csv_logger = CSVLogger('log/training_log_LSTM_prototype.csv')\n",
    "                    \n",
    "\n",
    "def model_setting(texts, labels, matrix_emb=\"uniform\"):\n",
    "    #######################################\n",
    "    # build up the model \n",
    "    # input: texts (dataframe), labels (dataframe), embedding matrix (np array), model name (str)\n",
    "    # output: None\n",
    "    #######################################\n",
    "    \n",
    "    import numpy as np\n",
    "    import pandas as pd\n",
    "    DROPOUT = 0.2\n",
    "    \n",
    "    if matrix_emb != \"uniform\": matrix_emb = Constant(matrix_emb)\n",
    "    \n",
    "#     split data to train & validation\n",
    "    validation_size = int(texts.shape[0]*VALIDATION_SPLIT)\n",
    "    texts_train = texts[:-validation_size]\n",
    "    texts_val = texts[-validation_size:]\n",
    "    labels_train = labels[:-validation_size]\n",
    "    labels_val = labels[-validation_size:]\n",
    "    \n",
    "    # model build\n",
    "    model = Sequential()\n",
    "#     model.add(Dropout(0.1, input_shape=(MAX_SEQUENCE_LENGTH,)))\n",
    "    model.add(Embedding(MAX_WORD+1, EMBEDDING_DIM, embeddings_initializer=matrix_emb, input_length=MAX_SEQUENCE_LENGTH, trainable=True)) # with embedding matrix\n",
    "#     model.add(Embedding(MAX_WORD, EMBEDDING_DIM, input_length=MAX_SEQUENCE_LENGTH)) # without embedding matrix\n",
    "#     model.add(LSTM(LSTM1_DIM, dropout=DROPOUT, recurrent_dropout=DROPOUT, return_sequences=True))\n",
    "    model.add(LSTM(LSTM1_DIM, dropout=DROPOUT, recurrent_dropout=DROPOUT))\n",
    "\n",
    "#     model.add(Bidirectional(LSTM(LSTM1_DIM, dropout=DROPOUT, recurrent_dropout=DROPOUT)))\n",
    "#     model.add(LSTM(LSTM2_DIM, dropout=DROPOUT, recurrent_dropout=DROPOUT))\n",
    "#     model.add(Bidirectional(LSTM(LSTM2_DIM)))\n",
    "    model.add(Dense(DENSE1_DIM, kernel_initializer='normal', activation='relu'))\n",
    "    model.add(Dense(DENSE2_DIM, kernel_initializer='normal', activation='relu'))\n",
    "    model.add(Dense(CATEGORY_NUM, kernel_initializer='normal', activation='softmax'))\n",
    "    model.compile(loss=\"categorical_crossentropy\", optimizer=\"nadam\", metrics=[\"accuracy\"])\n",
    "    model.summary()\n",
    "\n",
    "    \n",
    "    history_callback = model.fit(\n",
    "        texts_train, \n",
    "        labels_train, \n",
    "        epochs=EPOCHS, \n",
    "        batch_size=BATCH_SIZE, \n",
    "        callbacks=[csv_logger],\n",
    "        verbose=1, \n",
    "        shuffle=True, \n",
    "        validation_data=(texts_val, labels_val))\n",
    "    \n",
    "    pred_result = model.predict(test_sequence, batch_size=128)\n",
    "    \n",
    "    pred_result_val = model.predict(texts_val, batch_size=128)\n",
    "\n",
    "    return history_callback, pred_result, labels_val, pred_result_val"
   ]
  },
  {
   "cell_type": "code",
   "execution_count": 29,
   "metadata": {
    "ExecuteTime": {
     "end_time": "2019-12-22T15:47:37.913643Z",
     "start_time": "2019-12-22T15:31:05.927121Z"
    }
   },
   "outputs": [
    {
     "name": "stderr",
     "output_type": "stream",
     "text": [
      "/usr/local/lib/python3.6/dist-packages/ipykernel_launcher.py:8: DeprecationWarning: Call to deprecated `wv` (Attribute will be removed in 4.0.0, use self instead).\n",
      "  \n",
      "/usr/local/lib/python3.6/dist-packages/ipykernel_launcher.py:24: FutureWarning: elementwise comparison failed; returning scalar instead, but in the future will perform elementwise comparison\n"
     ]
    },
    {
     "name": "stdout",
     "output_type": "stream",
     "text": [
      "Model: \"sequential_2\"\n",
      "_________________________________________________________________\n",
      "Layer (type)                 Output Shape              Param #   \n",
      "=================================================================\n",
      "embedding_2 (Embedding)      (None, 50, 300)           4500300   \n",
      "_________________________________________________________________\n",
      "lstm_2 (LSTM)                (None, 256)               570368    \n",
      "_________________________________________________________________\n",
      "dense_4 (Dense)              (None, 256)               65792     \n",
      "_________________________________________________________________\n",
      "dense_5 (Dense)              (None, 256)               65792     \n",
      "_________________________________________________________________\n",
      "dense_6 (Dense)              (None, 8)                 2056      \n",
      "=================================================================\n",
      "Total params: 5,204,308\n",
      "Trainable params: 5,204,308\n",
      "Non-trainable params: 0\n",
      "_________________________________________________________________\n",
      "Train on 1164451 samples, validate on 291112 samples\n",
      "Epoch 1/7\n",
      "1164451/1164451 [==============================] - 133s 114us/step - loss: 1.5834 - accuracy: 0.4216 - val_loss: 1.3431 - val_accuracy: 0.5179\n",
      "Epoch 2/7\n",
      "1164451/1164451 [==============================] - 133s 114us/step - loss: 1.2766 - accuracy: 0.5397 - val_loss: 1.2434 - val_accuracy: 0.5512\n",
      "Epoch 3/7\n",
      "1164451/1164451 [==============================] - 133s 114us/step - loss: 1.2131 - accuracy: 0.5619 - val_loss: 1.2171 - val_accuracy: 0.5609\n",
      "Epoch 4/7\n",
      "1164451/1164451 [==============================] - 133s 114us/step - loss: 1.1740 - accuracy: 0.5753 - val_loss: 1.2077 - val_accuracy: 0.5636\n",
      "Epoch 5/7\n",
      "1164451/1164451 [==============================] - 133s 114us/step - loss: 1.1448 - accuracy: 0.5861 - val_loss: 1.2046 - val_accuracy: 0.5657\n",
      "Epoch 6/7\n",
      "1164451/1164451 [==============================] - 133s 114us/step - loss: 1.1193 - accuracy: 0.5949 - val_loss: 1.2105 - val_accuracy: 0.5654\n",
      "Epoch 7/7\n",
      "1164451/1164451 [==============================] - 133s 114us/step - loss: 1.0973 - accuracy: 0.6030 - val_loss: 1.2134 - val_accuracy: 0.5652\n"
     ]
    }
   ],
   "source": [
    "history, pred_result, labels_val, pred_result_val  = model_setting(train_sequence, train_label, word2vec_matrix())"
   ]
  },
  {
   "cell_type": "code",
   "execution_count": 30,
   "metadata": {
    "ExecuteTime": {
     "end_time": "2019-12-22T15:47:38.035436Z",
     "start_time": "2019-12-22T15:47:37.914579Z"
    }
   },
   "outputs": [
    {
     "data": {
      "image/png": "[encoded data removed]",
      "text/plain": [
       "<Figure size 432x288 with 1 Axes>"
      ]
     },
     "metadata": {
      "needs_background": "light"
     },
     "output_type": "display_data"
    }
   ],
   "source": [
    "import matplotlib.pyplot as plt\n",
    "%matplotlib inline\n",
    "\n",
    "def show_train_history(train_history, train, validation):\n",
    "    plt.plot(train_history.history[train])\n",
    "    plt.plot(train_history.history[validation])\n",
    "    plt.title('Train History')\n",
    "    plt.ylabel(train)\n",
    "    plt.xlabel('Epoch')\n",
    "    plt.legend(['train', 'validation'], loc='upper left')\n",
    "    plt.show()\n",
    "\n",
    "df_his_acc = pd.DataFrame({'train_acc':history.history['accuracy'], 'validation_acc':history.history['val_accuracy']})\n",
    "df_his_acc.to_csv(\"train_acc_history.csv\")\n",
    "show_train_history(history, 'accuracy', 'val_accuracy')\n"
   ]
  },
  {
   "cell_type": "code",
   "execution_count": 31,
   "metadata": {
    "ExecuteTime": {
     "end_time": "2019-12-22T15:47:38.110896Z",
     "start_time": "2019-12-22T15:47:38.036312Z"
    }
   },
   "outputs": [
    {
     "data": {
      "image/png": "[encoded data removed]",
      "text/plain": [
       "<Figure size 432x288 with 1 Axes>"
      ]
     },
     "metadata": {
      "needs_background": "light"
     },
     "output_type": "display_data"
    }
   ],
   "source": [
    "import matplotlib.pyplot as plt\n",
    "def show_train_history(train_history, train, validation):\n",
    "    plt.plot(train_history.history[train])\n",
    "    plt.plot(train_history.history[validation])\n",
    "    plt.title('Train History')\n",
    "    plt.ylabel(train)\n",
    "    plt.xlabel('Epoch')\n",
    "    plt.legend(['train', 'validation'], loc='upper left')\n",
    "    plt.show()\n",
    "df_his_acc = pd.DataFrame({'train_loss':history.history['loss'], 'validation_loss':history.history['val_loss']})\n",
    "df_his_acc.to_csv(\"train_loss_history.csv\")\n",
    "show_train_history(history, 'loss', 'val_loss')"
   ]
  },
  {
   "cell_type": "code",
   "execution_count": 32,
   "metadata": {
    "ExecuteTime": {
     "end_time": "2019-12-22T15:47:38.128425Z",
     "start_time": "2019-12-22T15:47:38.111785Z"
    }
   },
   "outputs": [],
   "source": [
    "pred_result_testing = label_decode(label_encoder, pred_result)"
   ]
  },
  {
   "cell_type": "code",
   "execution_count": 33,
   "metadata": {
    "ExecuteTime": {
     "end_time": "2019-12-22T15:47:38.131374Z",
     "start_time": "2019-12-22T15:47:38.129352Z"
    }
   },
   "outputs": [
    {
     "data": {
      "text/plain": [
       "array(['anticipation', 'anticipation', 'joy', ..., 'sadness', 'anger',\n",
       "       'sadness'], dtype='<U12')"
      ]
     },
     "execution_count": 33,
     "metadata": {},
     "output_type": "execute_result"
    }
   ],
   "source": [
    "pred_result_testing"
   ]
  },
  {
   "cell_type": "code",
   "execution_count": 34,
   "metadata": {
    "ExecuteTime": {
     "end_time": "2019-12-22T15:47:38.594403Z",
     "start_time": "2019-12-22T15:47:38.132214Z"
    }
   },
   "outputs": [],
   "source": [
    "pred_form = test_df\n",
    "pred_form = pred_form.drop('hashtags', axis=1)\n",
    "pred_form = pred_form.drop('text', axis=1)\n",
    "pred_form = pred_form.drop('identification', axis=1)\n",
    "pred_form = pred_form.drop('split', axis=1)\n",
    "pred_form = pred_form.drop('no_stopwords', axis=1)\n",
    "pred_form = pred_form.drop('stemmed', axis=1)\n",
    "pred_form = pred_form.drop('lemmatization', axis=1)\n",
    "pred_form = pred_form.drop('cleaned', axis=1)\n",
    "pred_form.rename(columns={'tweet_id':'id'}, inplace=True)\n",
    "pred = pred_form\n",
    "pred['emotion'] = pred_result_testing"
   ]
  },
  {
   "cell_type": "code",
   "execution_count": 35,
   "metadata": {
    "ExecuteTime": {
     "end_time": "2019-12-22T15:47:38.600909Z",
     "start_time": "2019-12-22T15:47:38.595333Z"
    }
   },
   "outputs": [
    {
     "data": {
      "text/html": [
       "<div>\n",
       "<style scoped>\n",
       "    .dataframe tbody tr th:only-of-type {\n",
       "        vertical-align: middle;\n",
       "    }\n",
       "\n",
       "    .dataframe tbody tr th {\n",
       "        vertical-align: top;\n",
       "    }\n",
       "\n",
       "    .dataframe thead th {\n",
       "        text-align: right;\n",
       "    }\n",
       "</style>\n",
       "<table border=\"1\" class=\"dataframe\">\n",
       "  <thead>\n",
       "    <tr style=\"text-align: right;\">\n",
       "      <th></th>\n",
       "      <th>id</th>\n",
       "      <th>emotion</th>\n",
       "    </tr>\n",
       "  </thead>\n",
       "  <tbody>\n",
       "    <tr>\n",
       "      <th>2</th>\n",
       "      <td>0x28b412</td>\n",
       "      <td>anticipation</td>\n",
       "    </tr>\n",
       "    <tr>\n",
       "      <th>4</th>\n",
       "      <td>0x2de201</td>\n",
       "      <td>anticipation</td>\n",
       "    </tr>\n",
       "    <tr>\n",
       "      <th>9</th>\n",
       "      <td>0x218443</td>\n",
       "      <td>joy</td>\n",
       "    </tr>\n",
       "    <tr>\n",
       "      <th>30</th>\n",
       "      <td>0x2939d5</td>\n",
       "      <td>anticipation</td>\n",
       "    </tr>\n",
       "    <tr>\n",
       "      <th>33</th>\n",
       "      <td>0x26289a</td>\n",
       "      <td>anticipation</td>\n",
       "    </tr>\n",
       "    <tr>\n",
       "      <th>...</th>\n",
       "      <td>...</td>\n",
       "      <td>...</td>\n",
       "    </tr>\n",
       "    <tr>\n",
       "      <th>1867525</th>\n",
       "      <td>0x2913b4</td>\n",
       "      <td>anticipation</td>\n",
       "    </tr>\n",
       "    <tr>\n",
       "      <th>1867529</th>\n",
       "      <td>0x2a980e</td>\n",
       "      <td>anticipation</td>\n",
       "    </tr>\n",
       "    <tr>\n",
       "      <th>1867530</th>\n",
       "      <td>0x316b80</td>\n",
       "      <td>sadness</td>\n",
       "    </tr>\n",
       "    <tr>\n",
       "      <th>1867531</th>\n",
       "      <td>0x29d0cb</td>\n",
       "      <td>anger</td>\n",
       "    </tr>\n",
       "    <tr>\n",
       "      <th>1867532</th>\n",
       "      <td>0x2a6a4f</td>\n",
       "      <td>sadness</td>\n",
       "    </tr>\n",
       "  </tbody>\n",
       "</table>\n",
       "<p>411972 rows × 2 columns</p>\n",
       "</div>"
      ],
      "text/plain": [
       "               id       emotion\n",
       "2        0x28b412  anticipation\n",
       "4        0x2de201  anticipation\n",
       "9        0x218443           joy\n",
       "30       0x2939d5  anticipation\n",
       "33       0x26289a  anticipation\n",
       "...           ...           ...\n",
       "1867525  0x2913b4  anticipation\n",
       "1867529  0x2a980e  anticipation\n",
       "1867530  0x316b80       sadness\n",
       "1867531  0x29d0cb         anger\n",
       "1867532  0x2a6a4f       sadness\n",
       "\n",
       "[411972 rows x 2 columns]"
      ]
     },
     "execution_count": 35,
     "metadata": {},
     "output_type": "execute_result"
    }
   ],
   "source": [
    "pred"
   ]
  },
  {
   "cell_type": "code",
   "execution_count": 36,
   "metadata": {
    "ExecuteTime": {
     "end_time": "2019-12-22T15:47:38.906692Z",
     "start_time": "2019-12-22T15:47:38.601839Z"
    }
   },
   "outputs": [],
   "source": [
    "pred.to_csv('prediction_LSTM.csv', index=False)"
   ]
  },
  {
   "cell_type": "code",
   "execution_count": 37,
   "metadata": {
    "ExecuteTime": {
     "end_time": "2019-12-22T15:47:40.195657Z",
     "start_time": "2019-12-22T15:47:38.907639Z"
    }
   },
   "outputs": [
    {
     "name": "stdout",
     "output_type": "stream",
     "text": [
      "              precision    recall  f1-score   support\n",
      "\n",
      "       anger       0.52      0.22      0.31      7984\n",
      "anticipation       0.59      0.63      0.61     49485\n",
      "     disgust       0.46      0.40      0.43     27857\n",
      "        fear       0.61      0.44      0.51     12774\n",
      "         joy       0.59      0.77      0.67    103239\n",
      "     sadness       0.48      0.53      0.50     38929\n",
      "    surprise       0.69      0.20      0.31      9755\n",
      "       trust       0.61      0.32      0.42     41089\n",
      "\n",
      "   micro avg       0.57      0.57      0.57    291112\n",
      "   macro avg       0.57      0.44      0.47    291112\n",
      "weighted avg       0.57      0.57      0.55    291112\n",
      "\n"
     ]
    }
   ],
   "source": [
    "from sklearn.metrics import classification_report\n",
    "labels_val_decode = label_decode(label_encoder, labels_val)\n",
    "pred_result_val_decode = label_decode(label_encoder, pred_result_val)\n",
    "print(classification_report(y_true=labels_val_decode, y_pred=pred_result_val_decode))"
   ]
  },
  {
   "cell_type": "code",
   "execution_count": null,
   "metadata": {},
   "outputs": [],
   "source": []
  }
 ],
 "metadata": {
  "kernelspec": {
   "display_name": "Python 3",
   "language": "python",
   "name": "python3"
  },
  "language_info": {
   "codemirror_mode": {
    "name": "ipython",
    "version": 3
   },
   "file_extension": ".py",
   "mimetype": "text/x-python",
   "name": "python",
   "nbconvert_exporter": "python",
   "pygments_lexer": "ipython3",
   "version": "3.6.7"
  }
 },
 "nbformat": 4,
 "nbformat_minor": 2
}
